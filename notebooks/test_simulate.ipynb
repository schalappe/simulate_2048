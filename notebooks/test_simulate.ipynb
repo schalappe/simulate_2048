{
 "cells": [
  {
   "cell_type": "code",
   "execution_count": 1,
   "id": "033e105e",
   "metadata": {},
   "outputs": [],
   "source": [
    "from pprint import pprint\n",
    "import numpy as np"
   ]
  },
  {
   "cell_type": "markdown",
   "id": "1ed2e562-4796-4aea-be07-da4c5f20da63",
   "metadata": {},
   "source": [
    "---\n",
    "\n",
    "## Test simulator"
   ]
  },
  {
   "cell_type": "code",
   "execution_count": 2,
   "id": "ddbacf00-f99c-43a4-8a7c-ca5bd53b40b6",
   "metadata": {
    "tags": []
   },
   "outputs": [],
   "source": [
    "from alphazero.addons.simulator import Simulator"
   ]
  },
  {
   "cell_type": "code",
   "execution_count": 3,
   "id": "ed932e79-13cf-4a83-b3c6-785cfd9865db",
   "metadata": {},
   "outputs": [],
   "source": [
    "board = np.array([[0, 0, 0, 0], [0, 0, 0, 0], [0, 0, 0, 4], [4, 0, 4, 2]])"
   ]
  },
  {
   "cell_type": "code",
   "execution_count": 4,
   "id": "0ff8fefc-a68a-48d3-a42e-dd464739f6d1",
   "metadata": {},
   "outputs": [
    {
     "name": "stdout",
     "output_type": "stream",
     "text": [
      "array([[0, 0, 0, 0],\n",
      "       [0, 0, 0, 0],\n",
      "       [0, 0, 0, 4],\n",
      "       [4, 0, 4, 2]])\n"
     ]
    }
   ],
   "source": [
    "pprint(board)"
   ]
  },
  {
   "cell_type": "code",
   "execution_count": 5,
   "id": "b11fb235-9466-4f45-8f8b-d30c0beddeb3",
   "metadata": {},
   "outputs": [],
   "source": [
    "simulator = Simulator()"
   ]
  },
  {
   "cell_type": "code",
   "execution_count": 6,
   "id": "e26b71fe-9152-4e7b-b3a0-3015d1a84609",
   "metadata": {},
   "outputs": [],
   "source": [
    "output = simulator.step(board)"
   ]
  },
  {
   "cell_type": "code",
   "execution_count": 7,
   "id": "49d6f455-16fc-46e4-b559-1c7dcbe7ad4a",
   "metadata": {},
   "outputs": [
    {
     "name": "stdout",
     "output_type": "stream",
     "text": [
      "[StochasticState(state=array([[2, 0, 0, 0],\n",
      "       [0, 0, 0, 0],\n",
      "       [4, 0, 0, 0],\n",
      "       [8, 2, 0, 0]]), probability=0.06923076923076923),\n",
      " StochasticState(state=array([[0, 2, 0, 0],\n",
      "       [0, 0, 0, 0],\n",
      "       [4, 0, 0, 0],\n",
      "       [8, 2, 0, 0]]), probability=0.06923076923076923),\n",
      " StochasticState(state=array([[0, 0, 2, 0],\n",
      "       [0, 0, 0, 0],\n",
      "       [4, 0, 0, 0],\n",
      "       [8, 2, 0, 0]]), probability=0.06923076923076923),\n",
      " StochasticState(state=array([[0, 0, 0, 2],\n",
      "       [0, 0, 0, 0],\n",
      "       [4, 0, 0, 0],\n",
      "       [8, 2, 0, 0]]), probability=0.06923076923076923),\n",
      " StochasticState(state=array([[0, 0, 0, 0],\n",
      "       [2, 0, 0, 0],\n",
      "       [4, 0, 0, 0],\n",
      "       [8, 2, 0, 0]]), probability=0.06923076923076923),\n",
      " StochasticState(state=array([[0, 0, 0, 0],\n",
      "       [0, 2, 0, 0],\n",
      "       [4, 0, 0, 0],\n",
      "       [8, 2, 0, 0]]), probability=0.06923076923076923),\n",
      " StochasticState(state=array([[0, 0, 0, 0],\n",
      "       [0, 0, 2, 0],\n",
      "       [4, 0, 0, 0],\n",
      "       [8, 2, 0, 0]]), probability=0.06923076923076923),\n",
      " StochasticState(state=array([[0, 0, 0, 0],\n",
      "       [0, 0, 0, 2],\n",
      "       [4, 0, 0, 0],\n",
      "       [8, 2, 0, 0]]), probability=0.06923076923076923),\n",
      " StochasticState(state=array([[0, 0, 0, 0],\n",
      "       [0, 0, 0, 0],\n",
      "       [4, 2, 0, 0],\n",
      "       [8, 2, 0, 0]]), probability=0.06923076923076923),\n",
      " StochasticState(state=array([[0, 0, 0, 0],\n",
      "       [0, 0, 0, 0],\n",
      "       [4, 0, 2, 0],\n",
      "       [8, 2, 0, 0]]), probability=0.06923076923076923),\n",
      " StochasticState(state=array([[0, 0, 0, 0],\n",
      "       [0, 0, 0, 0],\n",
      "       [4, 0, 0, 2],\n",
      "       [8, 2, 0, 0]]), probability=0.06923076923076923),\n",
      " StochasticState(state=array([[0, 0, 0, 0],\n",
      "       [0, 0, 0, 0],\n",
      "       [4, 0, 0, 0],\n",
      "       [8, 2, 2, 0]]), probability=0.06923076923076923),\n",
      " StochasticState(state=array([[0, 0, 0, 0],\n",
      "       [0, 0, 0, 0],\n",
      "       [4, 0, 0, 0],\n",
      "       [8, 2, 0, 2]]), probability=0.06923076923076923),\n",
      " StochasticState(state=array([[4, 0, 0, 0],\n",
      "       [0, 0, 0, 0],\n",
      "       [4, 0, 0, 0],\n",
      "       [8, 2, 0, 0]]), probability=0.007692307692307693),\n",
      " StochasticState(state=array([[0, 4, 0, 0],\n",
      "       [0, 0, 0, 0],\n",
      "       [4, 0, 0, 0],\n",
      "       [8, 2, 0, 0]]), probability=0.007692307692307693),\n",
      " StochasticState(state=array([[0, 0, 4, 0],\n",
      "       [0, 0, 0, 0],\n",
      "       [4, 0, 0, 0],\n",
      "       [8, 2, 0, 0]]), probability=0.007692307692307693),\n",
      " StochasticState(state=array([[0, 0, 0, 4],\n",
      "       [0, 0, 0, 0],\n",
      "       [4, 0, 0, 0],\n",
      "       [8, 2, 0, 0]]), probability=0.007692307692307693),\n",
      " StochasticState(state=array([[0, 0, 0, 0],\n",
      "       [4, 0, 0, 0],\n",
      "       [4, 0, 0, 0],\n",
      "       [8, 2, 0, 0]]), probability=0.007692307692307693),\n",
      " StochasticState(state=array([[0, 0, 0, 0],\n",
      "       [0, 4, 0, 0],\n",
      "       [4, 0, 0, 0],\n",
      "       [8, 2, 0, 0]]), probability=0.007692307692307693),\n",
      " StochasticState(state=array([[0, 0, 0, 0],\n",
      "       [0, 0, 4, 0],\n",
      "       [4, 0, 0, 0],\n",
      "       [8, 2, 0, 0]]), probability=0.007692307692307693),\n",
      " StochasticState(state=array([[0, 0, 0, 0],\n",
      "       [0, 0, 0, 4],\n",
      "       [4, 0, 0, 0],\n",
      "       [8, 2, 0, 0]]), probability=0.007692307692307693),\n",
      " StochasticState(state=array([[0, 0, 0, 0],\n",
      "       [0, 0, 0, 0],\n",
      "       [4, 4, 0, 0],\n",
      "       [8, 2, 0, 0]]), probability=0.007692307692307693),\n",
      " StochasticState(state=array([[0, 0, 0, 0],\n",
      "       [0, 0, 0, 0],\n",
      "       [4, 0, 4, 0],\n",
      "       [8, 2, 0, 0]]), probability=0.007692307692307693),\n",
      " StochasticState(state=array([[0, 0, 0, 0],\n",
      "       [0, 0, 0, 0],\n",
      "       [4, 0, 0, 4],\n",
      "       [8, 2, 0, 0]]), probability=0.007692307692307693),\n",
      " StochasticState(state=array([[0, 0, 0, 0],\n",
      "       [0, 0, 0, 0],\n",
      "       [4, 0, 0, 0],\n",
      "       [8, 2, 4, 0]]), probability=0.007692307692307693),\n",
      " StochasticState(state=array([[0, 0, 0, 0],\n",
      "       [0, 0, 0, 0],\n",
      "       [4, 0, 0, 0],\n",
      "       [8, 2, 0, 4]]), probability=0.007692307692307693)]\n"
     ]
    }
   ],
   "source": [
    "pprint(output.stochastic_states[0][0])"
   ]
  },
  {
   "cell_type": "markdown",
   "id": "d7ac0a82-9619-49e7-be71-5ad055af7d70",
   "metadata": {},
   "source": [
    "---\n",
    "## Expand Node"
   ]
  },
  {
   "cell_type": "code",
   "execution_count": 8,
   "id": "486cb4c0-ceba-4d52-a935-cc4a0a3d0050",
   "metadata": {},
   "outputs": [],
   "source": [
    "from alphazero.search.mcts import expand_node, select_child, backpropagate\n",
    "from alphazero.search.node import Node\n",
    "from alphazero.search.helpers import MinMaxStats"
   ]
  },
  {
   "cell_type": "code",
   "execution_count": 9,
   "id": "78f42ed4-4a94-45aa-9bc3-9a135356ca91",
   "metadata": {},
   "outputs": [],
   "source": [
    "from alphazero.addons.types import NetworkOutput\n",
    "from alphazero.addons.config import UpperConfidenceBounds"
   ]
  },
  {
   "cell_type": "code",
   "execution_count": 10,
   "id": "9b4bf4b0-00d5-4916-b3bb-2d47a3ee65b3",
   "metadata": {},
   "outputs": [],
   "source": [
    "root = Node(0)\n",
    "root.state = board"
   ]
  },
  {
   "cell_type": "code",
   "execution_count": 11,
   "id": "c12975bf-bfbc-4619-9ffa-c1a1368ef921",
   "metadata": {},
   "outputs": [],
   "source": [
    "network_output = NetworkOutput(value=4., probabilities={0: 0.45, 1: 0.1, 2: 0.45, 3: 0.0})"
   ]
  },
  {
   "cell_type": "code",
   "execution_count": 12,
   "id": "c1fb9cc3-72a6-43cf-8f7e-26b2d6ab117d",
   "metadata": {},
   "outputs": [
    {
     "name": "stdout",
     "output_type": "stream",
     "text": [
      "{}\n"
     ]
    }
   ],
   "source": [
    "pprint(root.children)"
   ]
  },
  {
   "cell_type": "code",
   "execution_count": 13,
   "id": "b1030f54-0b10-4fb1-8223-bf3e677e02fa",
   "metadata": {},
   "outputs": [],
   "source": [
    "expand_node(root, network_output, output)"
   ]
  },
  {
   "cell_type": "code",
   "execution_count": 14,
   "id": "be43700b-35af-4434-8b8b-27c222f9fa1a",
   "metadata": {},
   "outputs": [
    {
     "name": "stdout",
     "output_type": "stream",
     "text": [
      "{0: <alphazero.search.node.Node object at 0x10fb864f0>,\n",
      " 1: <alphazero.search.node.Node object at 0x10fb86670>,\n",
      " 2: <alphazero.search.node.Node object at 0x10fb86820>,\n",
      " 3: <alphazero.search.node.Node object at 0x10fb78ee0>}\n"
     ]
    }
   ],
   "source": [
    "pprint(root.children)"
   ]
  },
  {
   "cell_type": "code",
   "execution_count": 15,
   "id": "0d460a32-7a15-4678-8481-a26d2cc5a21c",
   "metadata": {},
   "outputs": [
    {
     "name": "stdout",
     "output_type": "stream",
     "text": [
      "0.45\n",
      "True\n"
     ]
    }
   ],
   "source": [
    "pprint(root.children[0].prior)\n",
    "pprint(root.children[0].is_chance)"
   ]
  },
  {
   "cell_type": "code",
   "execution_count": 16,
   "id": "f4c3f015-07b9-4fd3-9cf3-62ab836d23bf",
   "metadata": {},
   "outputs": [
    {
     "name": "stdout",
     "output_type": "stream",
     "text": [
      "{0: <alphazero.search.node.Node object at 0x10fb867c0>,\n",
      " 1: <alphazero.search.node.Node object at 0x10fb86fa0>,\n",
      " 2: <alphazero.search.node.Node object at 0x10fb86f70>,\n",
      " 3: <alphazero.search.node.Node object at 0x10fb86970>,\n",
      " 4: <alphazero.search.node.Node object at 0x10fb86400>,\n",
      " 5: <alphazero.search.node.Node object at 0x10fb86f40>,\n",
      " 6: <alphazero.search.node.Node object at 0x10fb864c0>,\n",
      " 7: <alphazero.search.node.Node object at 0x10fb86d90>,\n",
      " 8: <alphazero.search.node.Node object at 0x10fb86d60>,\n",
      " 9: <alphazero.search.node.Node object at 0x10fb86d30>,\n",
      " 10: <alphazero.search.node.Node object at 0x10fb86df0>,\n",
      " 11: <alphazero.search.node.Node object at 0x10fb86e20>,\n",
      " 12: <alphazero.search.node.Node object at 0x10fb866d0>,\n",
      " 13: <alphazero.search.node.Node object at 0x10fb861f0>,\n",
      " 14: <alphazero.search.node.Node object at 0x10fb86070>,\n",
      " 15: <alphazero.search.node.Node object at 0x10fb86700>,\n",
      " 16: <alphazero.search.node.Node object at 0x10fb86a30>,\n",
      " 17: <alphazero.search.node.Node object at 0x10fb86a60>,\n",
      " 18: <alphazero.search.node.Node object at 0x10fb86a90>,\n",
      " 19: <alphazero.search.node.Node object at 0x10fb86ac0>,\n",
      " 20: <alphazero.search.node.Node object at 0x10fb86af0>,\n",
      " 21: <alphazero.search.node.Node object at 0x10fb86b20>,\n",
      " 22: <alphazero.search.node.Node object at 0x10fb86b50>,\n",
      " 23: <alphazero.search.node.Node object at 0x10fb868b0>,\n",
      " 24: <alphazero.search.node.Node object at 0x10fb86880>,\n",
      " 25: <alphazero.search.node.Node object at 0x10fb86850>}\n"
     ]
    }
   ],
   "source": [
    "pprint(root.children[0].children)"
   ]
  },
  {
   "cell_type": "code",
   "execution_count": 17,
   "id": "d0983131-5305-456f-9a1b-1a0001c1f87b",
   "metadata": {},
   "outputs": [
    {
     "name": "stdout",
     "output_type": "stream",
     "text": [
      "0.06923076923076923\n",
      "False\n",
      "array([[2, 0, 0, 0],\n",
      "       [0, 0, 0, 0],\n",
      "       [4, 0, 0, 0],\n",
      "       [8, 2, 0, 0]])\n",
      "8\n"
     ]
    }
   ],
   "source": [
    "pprint(root.children[0].children[0].prior)\n",
    "pprint(root.children[0].children[0].is_chance)\n",
    "pprint(root.children[0].children[0].state)\n",
    "pprint(root.children[0].children[0].reward)"
   ]
  },
  {
   "cell_type": "code",
   "execution_count": 18,
   "id": "1b4c9eb3-889c-466a-8926-35637ef27da3",
   "metadata": {},
   "outputs": [],
   "source": [
    "min_max_stats = MinMaxStats(None)"
   ]
  },
  {
   "cell_type": "code",
   "execution_count": 19,
   "id": "7bbe1e52-099f-498b-90de-186becaaad46",
   "metadata": {},
   "outputs": [],
   "source": [
    "bounds = UpperConfidenceBounds(discount=0.999, pb_c_base=19652, pb_c_init=1.25)"
   ]
  },
  {
   "cell_type": "code",
   "execution_count": 20,
   "id": "361cd665-9a12-4647-8766-d6395bc7f4b5",
   "metadata": {},
   "outputs": [],
   "source": [
    "node = root\n",
    "search_path = [node]\n",
    "\n",
    "while node.expanded():\n",
    "    node = select_child(bounds, node, min_max_stats)\n",
    "    search_path.append(node)"
   ]
  },
  {
   "cell_type": "code",
   "execution_count": 21,
   "id": "0d3ee9cc-a982-42d4-8eef-b42d1d65f685",
   "metadata": {},
   "outputs": [
    {
     "name": "stdout",
     "output_type": "stream",
     "text": [
      "False\n",
      "1.0\n",
      "-10\n",
      "array([[0, 0, 0, 0],\n",
      "       [0, 0, 0, 0],\n",
      "       [0, 0, 0, 4],\n",
      "       [4, 0, 4, 2]])\n",
      "0\n"
     ]
    }
   ],
   "source": [
    "pprint(node.is_chance)\n",
    "pprint(node.prior)\n",
    "pprint(node.reward)\n",
    "pprint(node.state)\n",
    "pprint(node.value())"
   ]
  },
  {
   "cell_type": "code",
   "execution_count": 23,
   "id": "537128e8-6255-43ed-ade9-2618c2f75f5d",
   "metadata": {},
   "outputs": [],
   "source": [
    "backpropagate(search_path, network_output.value, bounds.discount, min_max_stats)"
   ]
  },
  {
   "cell_type": "code",
   "execution_count": 24,
   "id": "3488636c-bf55-48a5-baec-28d4be1f7aa4",
   "metadata": {},
   "outputs": [
    {
     "name": "stdout",
     "output_type": "stream",
     "text": [
      "False\n",
      "1.0\n",
      "-10\n",
      "array([[0, 0, 0, 0],\n",
      "       [0, 0, 0, 0],\n",
      "       [0, 0, 0, 4],\n",
      "       [4, 0, 4, 2]])\n",
      "4.0\n"
     ]
    }
   ],
   "source": [
    "pprint(node.is_chance)\n",
    "pprint(node.prior)\n",
    "pprint(node.reward)\n",
    "pprint(node.state)\n",
    "pprint(node.value())"
   ]
  },
  {
   "cell_type": "code",
   "execution_count": 25,
   "id": "ed48380b-e9e8-4529-b020-a89a3834e0ab",
   "metadata": {},
   "outputs": [],
   "source": [
    "node = root\n",
    "search_path = [node]\n",
    "\n",
    "while node.expanded():\n",
    "    node = select_child(bounds, node, min_max_stats)\n",
    "    search_path.append(node)"
   ]
  },
  {
   "cell_type": "code",
   "execution_count": 26,
   "id": "11bdcc13-4fcb-4f72-92b7-b1405769495f",
   "metadata": {},
   "outputs": [
    {
     "name": "stdout",
     "output_type": "stream",
     "text": [
      "False\n",
      "0.06923076923076923\n",
      "8\n",
      "array([[0, 0, 0, 0],\n",
      "       [0, 0, 2, 0],\n",
      "       [0, 0, 0, 4],\n",
      "       [0, 0, 8, 2]])\n",
      "0\n"
     ]
    }
   ],
   "source": [
    "pprint(node.is_chance)\n",
    "pprint(node.prior)\n",
    "pprint(node.reward)\n",
    "pprint(node.state)\n",
    "pprint(node.value())"
   ]
  },
  {
   "cell_type": "code",
   "execution_count": null,
   "id": "6eb76830-076c-4e39-b018-8b592b73e9d7",
   "metadata": {},
   "outputs": [],
   "source": []
  }
 ],
 "metadata": {
  "kernelspec": {
   "display_name": "Python 3 (ipykernel)",
   "language": "python",
   "name": "python3"
  },
  "language_info": {
   "codemirror_mode": {
    "name": "ipython",
    "version": 3
   },
   "file_extension": ".py",
   "mimetype": "text/x-python",
   "name": "python",
   "nbconvert_exporter": "python",
   "pygments_lexer": "ipython3",
   "version": "3.9.13"
  }
 },
 "nbformat": 4,
 "nbformat_minor": 5
}
