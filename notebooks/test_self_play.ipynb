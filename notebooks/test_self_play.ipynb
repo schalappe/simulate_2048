{
 "cells": [
  {
   "cell_type": "markdown",
   "id": "ba33e8a2-5fca-4605-96f3-0a70a7d26e88",
   "metadata": {},
   "source": [
    "---\n",
    "## Test self play"
   ]
  },
  {
   "cell_type": "code",
   "execution_count": 1,
   "id": "fd1b596b-1995-4f67-a617-4899fe2e3402",
   "metadata": {},
   "outputs": [],
   "source": [
    "import numpy as np\n",
    "import tensorflow as tf"
   ]
  },
  {
   "cell_type": "code",
   "execution_count": 2,
   "id": "8220d4a3-0fa5-45a5-ae0e-b19955cf189e",
   "metadata": {},
   "outputs": [],
   "source": [
    "from alphazero.models.network import Network\n",
    "from alphazero.module.replay import ReplayBuffer\n",
    "from alphazero.game.config import config_2048\n",
    "from alphazero.train.self_play import run_self_play\n",
    "from alphazero.train.training import compute_td_target"
   ]
  },
  {
   "cell_type": "code",
   "execution_count": 3,
   "id": "bed49cad-6af6-4842-9f26-c488290f4896",
   "metadata": {},
   "outputs": [],
   "source": [
    "config = config_2048()"
   ]
  },
  {
   "cell_type": "code",
   "execution_count": 4,
   "id": "5aedd993-e81c-464c-b816-14f4d49f4d97",
   "metadata": {},
   "outputs": [],
   "source": [
    "replay_buffer = ReplayBuffer(config.replay)"
   ]
  },
  {
   "cell_type": "code",
   "execution_count": 5,
   "id": "ebb9da4b-538f-48b7-8420-2fc7b97d3727",
   "metadata": {},
   "outputs": [
    {
     "name": "stdout",
     "output_type": "stream",
     "text": [
      "Metal device set to: Apple M1 Pro\n"
     ]
    },
    {
     "name": "stderr",
     "output_type": "stream",
     "text": [
      "2022-11-08 22:34:28.245039: I tensorflow/core/common_runtime/pluggable_device/pluggable_device_factory.cc:306] Could not identify NUMA node of platform GPU ID 0, defaulting to 0. Your kernel may not have been built with NUMA support.\n",
      "2022-11-08 22:34:28.245150: I tensorflow/core/common_runtime/pluggable_device/pluggable_device_factory.cc:272] Created TensorFlow device (/job:localhost/replica:0/task:0/device:GPU:0 with 0 MB memory) -> physical PluggableDevice (device: 0, name: METAL, pci bus id: <undefined>)\n"
     ]
    }
   ],
   "source": [
    "network = config.factory.network_factory()"
   ]
  },
  {
   "cell_type": "code",
   "execution_count": 6,
   "id": "84ced7f6-f995-4f95-aada-2b43361da9cc",
   "metadata": {},
   "outputs": [
    {
     "name": "stderr",
     "output_type": "stream",
     "text": [
      "/Users/schalappe/miniforge3/envs/env_rl/lib/python3.9/site-packages/gym/utils/passive_env_checker.py:31: UserWarning: \u001b[33mWARN: A Box observation space has an unconventional shape (neither an image, nor a 1D vector). We recommend flattening the observation to have only a 1D vector or use a custom policy to properly process the data. Actual observation shape: (4, 4)\u001b[0m\n",
      "  logger.warn(\n"
     ]
    },
    {
     "name": "stdout",
     "output_type": "stream",
     "text": [
      "Actor n°1 finish ...\n",
      "Actor n°2 finish ...\n"
     ]
    }
   ],
   "source": [
    "run_self_play(config, network, replay_buffer, 1)"
   ]
  },
  {
   "cell_type": "code",
   "execution_count": 7,
   "id": "7a6589e8-d882-4c7e-89bf-2053bef07ed7",
   "metadata": {},
   "outputs": [
    {
     "data": {
      "text/plain": [
       "292"
      ]
     },
     "execution_count": 7,
     "metadata": {},
     "output_type": "execute_result"
    }
   ],
   "source": [
    "len(replay_buffer._data[0])"
   ]
  },
  {
   "cell_type": "code",
   "execution_count": 8,
   "id": "6fd1f0d6-3914-4867-b8c2-e83f70e940c2",
   "metadata": {},
   "outputs": [
    {
     "data": {
      "text/plain": [
       "State(observation=array([[  2,   4,  16,   4],\n",
       "       [  2, 256,  64,  16],\n",
       "       [ 64,  16, 128,   8],\n",
       "       [  4,  32,   8,   2]]), reward=4, discount=0.999, action=3, search_stats=SearchStats(search_policy={1: 12, 3: 8}, search_value=0.3770373432017707))"
      ]
     },
     "execution_count": 8,
     "metadata": {},
     "output_type": "execute_result"
    }
   ],
   "source": [
    "replay_buffer._data[0][-1]"
   ]
  },
  {
   "cell_type": "code",
   "execution_count": 9,
   "id": "057f6708-4f0b-411b-a145-c9e12300a723",
   "metadata": {},
   "outputs": [],
   "source": [
    "sample = replay_buffer.sample()"
   ]
  },
  {
   "cell_type": "code",
   "execution_count": 10,
   "id": "7b0560a6-360b-4de9-ba11-7a9c6aa497a8",
   "metadata": {},
   "outputs": [
    {
     "data": {
      "text/plain": [
       "1024"
      ]
     },
     "execution_count": 10,
     "metadata": {},
     "output_type": "execute_result"
    }
   ],
   "source": [
    "len(sample)"
   ]
  },
  {
   "cell_type": "code",
   "execution_count": 11,
   "id": "fdbaa30d-edc1-4d48-a022-135071007910",
   "metadata": {},
   "outputs": [],
   "source": [
    "td_targets = compute_td_target(config.replay.td_steps, config.replay.td_lambda, sample)"
   ]
  },
  {
   "cell_type": "code",
   "execution_count": 12,
   "id": "1d6a81c4-74c4-4371-bd55-61453c47da9a",
   "metadata": {},
   "outputs": [
    {
     "data": {
      "text/plain": [
       "1024"
      ]
     },
     "execution_count": 12,
     "metadata": {},
     "output_type": "execute_result"
    }
   ],
   "source": [
    "len(td_targets)"
   ]
  },
  {
   "cell_type": "code",
   "execution_count": 13,
   "id": "58818ab7-4439-4ba7-be67-56abcca249a1",
   "metadata": {},
   "outputs": [
    {
     "data": {
      "text/plain": [
       "[array([[ 2,  2,  0,  0],\n",
       "        [ 4,  8,  4,  0],\n",
       "        [64,  2, 16,  0],\n",
       "        [ 2, 16,  4,  0]]),\n",
       " 7.3163312267070895,\n",
       " [0.4, 0.15, 0.45, 0]]"
      ]
     },
     "execution_count": 13,
     "metadata": {},
     "output_type": "execute_result"
    }
   ],
   "source": [
    "td_targets[0]"
   ]
  },
  {
   "cell_type": "code",
   "execution_count": 14,
   "id": "0454e49c-b39e-430d-a322-69befe672338",
   "metadata": {},
   "outputs": [],
   "source": [
    "observations, target_values, target_policies = zip(*td_targets)"
   ]
  },
  {
   "cell_type": "code",
   "execution_count": 15,
   "id": "6b045977-775b-4132-91bd-94fffedbbb66",
   "metadata": {},
   "outputs": [
    {
     "data": {
      "text/plain": [
       "array([[ 2,  2,  0,  0],\n",
       "       [ 4,  8,  4,  0],\n",
       "       [64,  2, 16,  0],\n",
       "       [ 2, 16,  4,  0]])"
      ]
     },
     "execution_count": 15,
     "metadata": {},
     "output_type": "execute_result"
    }
   ],
   "source": [
    "observations[0]"
   ]
  },
  {
   "cell_type": "code",
   "execution_count": 16,
   "id": "ccc0bb3d-73be-42f1-9184-a1bd55a104c4",
   "metadata": {},
   "outputs": [],
   "source": [
    "def encode(state):\n",
    "    obs = state.copy()\n",
    "    obs = np.reshape(obs, -1)\n",
    "    obs[obs == 0] = 1\n",
    "    obs = np.log2(obs)\n",
    "    obs = obs.astype(int)\n",
    "    return np.reshape(np.eye(31)[obs], -1)"
   ]
  },
  {
   "cell_type": "code",
   "execution_count": 17,
   "id": "1f5b4a51-8e90-49cd-8f38-3b3f6b300807",
   "metadata": {},
   "outputs": [],
   "source": [
    "observations = [encode(obs) for obs in observations]"
   ]
  },
  {
   "cell_type": "code",
   "execution_count": 18,
   "id": "8e130a0c-01cc-4203-87e7-f92161266af3",
   "metadata": {},
   "outputs": [
    {
     "data": {
      "text/plain": [
       "array([0., 1., 0., 0., 0., 0., 0., 0., 0., 0., 0., 0., 0., 0., 0., 0., 0.,\n",
       "       0., 0., 0., 0., 0., 0., 0., 0., 0., 0., 0., 0., 0., 0., 0., 1., 0.,\n",
       "       0., 0., 0., 0., 0., 0., 0., 0., 0., 0., 0., 0., 0., 0., 0., 0., 0.,\n",
       "       0., 0., 0., 0., 0., 0., 0., 0., 0., 0., 0., 1., 0., 0., 0., 0., 0.,\n",
       "       0., 0., 0., 0., 0., 0., 0., 0., 0., 0., 0., 0., 0., 0., 0., 0., 0.,\n",
       "       0., 0., 0., 0., 0., 0., 0., 0., 1., 0., 0., 0., 0., 0., 0., 0., 0.,\n",
       "       0., 0., 0., 0., 0., 0., 0., 0., 0., 0., 0., 0., 0., 0., 0., 0., 0.,\n",
       "       0., 0., 0., 0., 0., 0., 0., 1., 0., 0., 0., 0., 0., 0., 0., 0., 0.,\n",
       "       0., 0., 0., 0., 0., 0., 0., 0., 0., 0., 0., 0., 0., 0., 0., 0., 0.,\n",
       "       0., 0., 0., 0., 0., 1., 0., 0., 0., 0., 0., 0., 0., 0., 0., 0., 0.,\n",
       "       0., 0., 0., 0., 0., 0., 0., 0., 0., 0., 0., 0., 0., 0., 0., 0., 0.,\n",
       "       0., 1., 0., 0., 0., 0., 0., 0., 0., 0., 0., 0., 0., 0., 0., 0., 0.,\n",
       "       0., 0., 0., 0., 0., 0., 0., 0., 0., 0., 0., 0., 0., 1., 0., 0., 0.,\n",
       "       0., 0., 0., 0., 0., 0., 0., 0., 0., 0., 0., 0., 0., 0., 0., 0., 0.,\n",
       "       0., 0., 0., 0., 0., 0., 0., 0., 0., 0., 0., 0., 0., 0., 0., 0., 1.,\n",
       "       0., 0., 0., 0., 0., 0., 0., 0., 0., 0., 0., 0., 0., 0., 0., 0., 0.,\n",
       "       0., 0., 0., 0., 0., 0., 0., 0., 1., 0., 0., 0., 0., 0., 0., 0., 0.,\n",
       "       0., 0., 0., 0., 0., 0., 0., 0., 0., 0., 0., 0., 0., 0., 0., 0., 0.,\n",
       "       0., 0., 0., 0., 0., 0., 0., 0., 1., 0., 0., 0., 0., 0., 0., 0., 0.,\n",
       "       0., 0., 0., 0., 0., 0., 0., 0., 0., 0., 0., 0., 0., 0., 0., 0., 0.,\n",
       "       0., 1., 0., 0., 0., 0., 0., 0., 0., 0., 0., 0., 0., 0., 0., 0., 0.,\n",
       "       0., 0., 0., 0., 0., 0., 0., 0., 0., 0., 0., 0., 0., 0., 0., 0., 1.,\n",
       "       0., 0., 0., 0., 0., 0., 0., 0., 0., 0., 0., 0., 0., 0., 0., 0., 0.,\n",
       "       0., 0., 0., 0., 0., 0., 0., 0., 0., 0., 0., 0., 0., 0., 0., 0., 1.,\n",
       "       0., 0., 0., 0., 0., 0., 0., 0., 0., 0., 0., 0., 0., 0., 0., 0., 0.,\n",
       "       0., 0., 0., 0., 0., 0., 0., 0., 0., 0., 0., 1., 0., 0., 0., 0., 0.,\n",
       "       0., 0., 0., 0., 0., 0., 0., 0., 0., 0., 0., 0., 0., 0., 0., 0., 0.,\n",
       "       0., 0., 0., 0., 0., 0., 1., 0., 0., 0., 0., 0., 0., 0., 0., 0., 0.,\n",
       "       0., 0., 0., 0., 0., 0., 0., 0., 0., 0., 0., 0., 0., 0., 0., 0., 0.,\n",
       "       0., 0., 0.])"
      ]
     },
     "execution_count": 18,
     "metadata": {},
     "output_type": "execute_result"
    }
   ],
   "source": [
    "observations[0]"
   ]
  },
  {
   "cell_type": "code",
   "execution_count": 19,
   "id": "eff2774f-cd85-4314-8cba-59e3c6e63b34",
   "metadata": {},
   "outputs": [],
   "source": [
    "tensor_obs = tf.stack(observations)"
   ]
  },
  {
   "cell_type": "code",
   "execution_count": 20,
   "id": "237e0c9a-ba5c-459b-96c2-d6dba0b6ab14",
   "metadata": {},
   "outputs": [
    {
     "data": {
      "text/plain": [
       "<tf.Tensor: shape=(1024, 496), dtype=float64, numpy=\n",
       "array([[0., 1., 0., ..., 0., 0., 0.],\n",
       "       [0., 0., 1., ..., 0., 0., 0.],\n",
       "       [0., 0., 1., ..., 0., 0., 0.],\n",
       "       ...,\n",
       "       [0., 0., 0., ..., 0., 0., 0.],\n",
       "       [0., 1., 0., ..., 0., 0., 0.],\n",
       "       [0., 0., 0., ..., 0., 0., 0.]])>"
      ]
     },
     "execution_count": 20,
     "metadata": {},
     "output_type": "execute_result"
    }
   ],
   "source": [
    "tensor_obs"
   ]
  },
  {
   "cell_type": "code",
   "execution_count": 21,
   "id": "ef79a87f-6b21-4be3-b70f-b90aede6b53a",
   "metadata": {},
   "outputs": [],
   "source": [
    "predicts = network.model(tensor_obs, training=False)"
   ]
  },
  {
   "cell_type": "code",
   "execution_count": 22,
   "id": "ca1116e8-8825-4e90-9f0b-9e86c372f374",
   "metadata": {},
   "outputs": [
    {
     "data": {
      "text/plain": [
       "2"
      ]
     },
     "execution_count": 22,
     "metadata": {},
     "output_type": "execute_result"
    }
   ],
   "source": [
    "len(predicts)"
   ]
  },
  {
   "cell_type": "code",
   "execution_count": 23,
   "id": "a0ac5bfc-cf27-4580-88e1-1fa310332c32",
   "metadata": {},
   "outputs": [
    {
     "data": {
      "text/plain": [
       "[<tf.Tensor: shape=(1024, 4), dtype=float32, numpy=\n",
       " array([[0.26123488, 0.25167587, 0.17025577, 0.3168335 ],\n",
       "        [0.2716772 , 0.25360712, 0.11222921, 0.3624865 ],\n",
       "        [0.2881742 , 0.2422152 , 0.11043786, 0.35917273],\n",
       "        ...,\n",
       "        [0.30563417, 0.22402717, 0.10214236, 0.3681963 ],\n",
       "        [0.25844336, 0.2382467 , 0.1410388 , 0.36227113],\n",
       "        [0.27667114, 0.25207597, 0.14451921, 0.32673365]], dtype=float32)>,\n",
       " <tf.Tensor: shape=(1024, 1), dtype=float32, numpy=\n",
       " array([[-0.12984462],\n",
       "        [-0.18343288],\n",
       "        [-0.20527183],\n",
       "        ...,\n",
       "        [-0.18799019],\n",
       "        [-0.1321177 ],\n",
       "        [-0.05137035]], dtype=float32)>]"
      ]
     },
     "execution_count": 23,
     "metadata": {},
     "output_type": "execute_result"
    }
   ],
   "source": [
    "predicts"
   ]
  },
  {
   "cell_type": "code",
   "execution_count": null,
   "id": "94139377-7ade-4a3d-a5f1-4a33502ebced",
   "metadata": {},
   "outputs": [],
   "source": []
  }
 ],
 "metadata": {
  "kernelspec": {
   "display_name": "Python 3 (ipykernel)",
   "language": "python",
   "name": "python3"
  },
  "language_info": {
   "codemirror_mode": {
    "name": "ipython",
    "version": 3
   },
   "file_extension": ".py",
   "mimetype": "text/x-python",
   "name": "python",
   "nbconvert_exporter": "python",
   "pygments_lexer": "ipython3",
   "version": "3.9.13"
  }
 },
 "nbformat": 4,
 "nbformat_minor": 5
}
