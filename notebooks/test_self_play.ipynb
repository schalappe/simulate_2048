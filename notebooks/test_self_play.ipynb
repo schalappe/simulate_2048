{
 "cells": [
  {
   "cell_type": "markdown",
   "id": "ba33e8a2-5fca-4605-96f3-0a70a7d26e88",
   "metadata": {},
   "source": [
    "---\n",
    "## Test self play"
   ]
  },
  {
   "cell_type": "code",
   "execution_count": 1,
   "id": "fd1b596b-1995-4f67-a617-4899fe2e3402",
   "metadata": {},
   "outputs": [],
   "source": [
    "import numpy as np\n",
    "import tensorflow as tf"
   ]
  },
  {
   "cell_type": "code",
   "execution_count": 2,
   "id": "6a67d806-c685-4a15-994c-8a9514c9d561",
   "metadata": {},
   "outputs": [],
   "source": [
    "from numpy import max as max_array_values\n",
    "from numpy import sum as sum_array_values"
   ]
  },
  {
   "cell_type": "code",
   "execution_count": 3,
   "id": "8220d4a3-0fa5-45a5-ae0e-b19955cf189e",
   "metadata": {},
   "outputs": [],
   "source": [
    "from alphazero.game.config import config_2048\n",
    "from alphazero.models.network import NetworkCacher\n",
    "from alphazero.module.replay import ReplayBuffer\n",
    "from alphazero.module.actor import StochasticMuZeroActor\n",
    "from alphazero.train.self_play import run_self_play\n",
    "from alphazero.addons.types import State"
   ]
  },
  {
   "cell_type": "code",
   "execution_count": 4,
   "id": "bed49cad-6af6-4842-9f26-c488290f4896",
   "metadata": {},
   "outputs": [],
   "source": [
    "config = config_2048()\n",
    "config.self_play.episodes = 1"
   ]
  },
  {
   "cell_type": "code",
   "execution_count": 5,
   "id": "5aedd993-e81c-464c-b816-14f4d49f4d97",
   "metadata": {},
   "outputs": [
    {
     "name": "stderr",
     "output_type": "stream",
     "text": [
      "2022-11-19 16:56:25.339990: I tensorflow/core/common_runtime/pluggable_device/pluggable_device_factory.cc:306] Could not identify NUMA node of platform GPU ID 0, defaulting to 0. Your kernel may not have been built with NUMA support.\n",
      "2022-11-19 16:56:25.340124: I tensorflow/core/common_runtime/pluggable_device/pluggable_device_factory.cc:272] Created TensorFlow device (/job:localhost/replica:0/task:0/device:GPU:0 with 0 MB memory) -> physical PluggableDevice (device: 0, name: METAL, pci bus id: <undefined>)\n"
     ]
    },
    {
     "name": "stdout",
     "output_type": "stream",
     "text": [
      "Metal device set to: Apple M1 Pro\n"
     ]
    }
   ],
   "source": [
    "replay_buffer = ReplayBuffer(config.replay)\n",
    "cacher = NetworkCacher()\n",
    "cacher.save_network(config.factory.network_factory())"
   ]
  },
  {
   "cell_type": "code",
   "execution_count": 6,
   "id": "84ced7f6-f995-4f95-aada-2b43361da9cc",
   "metadata": {},
   "outputs": [
    {
     "name": "stdout",
     "output_type": "stream",
     "text": [
      "Actor n°1: - Score: 890\n",
      "Max: 512 for the self-play ...\n",
      "Self-play took 10.37 minutes\n"
     ]
    }
   ],
   "source": [
    "run_self_play(config, cacher, replay_buffer)"
   ]
  },
  {
   "cell_type": "code",
   "execution_count": 12,
   "id": "7a6589e8-d882-4c7e-89bf-2053bef07ed7",
   "metadata": {},
   "outputs": [
    {
     "data": {
      "text/plain": [
       "1"
      ]
     },
     "execution_count": 12,
     "metadata": {},
     "output_type": "execute_result"
    }
   ],
   "source": [
    "len(replay_buffer._data)"
   ]
  },
  {
   "cell_type": "code",
   "execution_count": 8,
   "id": "6fd1f0d6-3914-4867-b8c2-e83f70e940c2",
   "metadata": {},
   "outputs": [
    {
     "data": {
      "text/plain": [
       "array([1.45807818e-04, 1.80712216e-04, 4.45606820e-04, 6.04059645e-04,\n",
       "       8.84074306e-05, 2.21288321e-04, 7.15580925e-04, 4.20852227e-04,\n",
       "       8.69942138e-05, 2.64056030e-03, 5.70374255e-04, 8.45125054e-05,\n",
       "       9.73642880e-04, 4.27653761e-04, 6.47091800e-04, 5.40147864e-05,\n",
       "       5.13580545e-04, 9.02222994e-04, 7.36111472e-04, 4.17429808e-04,\n",
       "       3.82916710e-05, 6.24300351e-04, 2.60771819e-03, 5.29269802e-04,\n",
       "       5.78487180e-03, 1.11129274e-04, 1.04951066e-03, 1.40280667e-04,\n",
       "       1.75984583e-04, 2.43130838e-04, 3.58302432e-04, 4.28268757e-04,\n",
       "       7.39981582e-04, 1.02439628e-04, 1.47809322e-03, 1.07122896e-03,\n",
       "       7.13061270e-05, 7.15899670e-04, 5.29278182e-05, 3.21989328e-04,\n",
       "       1.09099613e-03, 1.66100623e-03, 8.37568970e-04, 4.21685244e-03,\n",
       "       2.09436877e-03, 6.69562444e-04, 5.78393715e-04, 1.77535269e-03,\n",
       "       9.18593212e-04, 7.15039739e-04, 2.77145680e-03, 3.03103843e-03,\n",
       "       5.29200114e-03, 6.63723960e-03, 4.80123634e-04, 9.24551510e-03,\n",
       "       6.58678969e-04, 4.46746813e-04, 1.69729972e-04, 3.52700912e-04,\n",
       "       1.20690580e-03, 2.66593450e-04, 1.69228955e-03, 4.78111924e-04,\n",
       "       1.74394853e-04, 5.02924000e-04, 3.73075792e-05, 1.66730687e-04,\n",
       "       3.62099543e-04, 1.29754047e-04, 2.51790644e-03, 3.96901056e-03,\n",
       "       2.04128424e-04, 1.75214843e-03, 2.69220072e-03, 6.02909676e-03,\n",
       "       1.59787180e-02, 1.06405214e-04, 2.76044322e-03, 1.98402929e-03,\n",
       "       1.04595451e-03, 1.47387682e-04, 7.66108788e-04, 2.85019868e-05,\n",
       "       9.06918480e-05, 1.91474530e-03, 2.12641182e-04, 2.30562772e-03,\n",
       "       9.72306842e-05, 3.33259480e-03, 1.08730226e-03, 5.04121496e-04,\n",
       "       3.56022074e-04, 1.17972569e-03, 1.32837859e-03, 8.39424635e-04,\n",
       "       9.54072849e-04, 1.34029243e-03, 3.74355698e-03, 7.95356937e-05,\n",
       "       9.14236317e-03, 3.86903871e-04, 4.67108199e-05, 1.08188690e-04,\n",
       "       1.06033455e-04, 6.00258650e-04, 1.73420373e-03, 1.80121720e-03,\n",
       "       1.23396192e-03, 1.01612872e-03, 1.49592847e-04, 2.42178253e-03,\n",
       "       6.16825718e-04, 3.71502783e-03, 1.16910925e-03, 6.55101790e-04,\n",
       "       6.75984258e-04, 6.12709488e-04, 4.21336177e-04, 6.13160750e-04,\n",
       "       9.58378547e-05, 2.72994317e-03, 2.46057282e-04, 4.12204213e-04,\n",
       "       4.57252811e-04, 2.93938629e-03, 1.75774375e-03, 2.58265341e-03,\n",
       "       4.63966239e-03, 4.69661997e-03, 5.24397860e-03, 1.50150182e-02,\n",
       "       3.29567299e-02, 1.12582888e-03, 1.12554144e-03, 3.30362167e-04,\n",
       "       5.66991509e-03, 6.02617144e-04, 1.68589059e-04, 8.71663145e-04,\n",
       "       4.19406472e-04, 8.64993864e-05, 6.52263904e-04, 1.40160228e-04,\n",
       "       4.72720063e-04, 2.91705453e-04, 1.91444664e-03, 8.42780990e-04,\n",
       "       2.18269217e-04, 1.43762685e-03, 4.04549013e-06, 7.71240302e-04,\n",
       "       3.43646697e-04, 1.40709641e-04, 3.52378683e-06, 9.87414494e-04,\n",
       "       1.08821414e-04, 3.34853045e-04, 7.68578054e-04, 3.20603787e-04,\n",
       "       1.10784556e-03, 3.51395321e-03, 4.11707199e-03, 1.66863712e-04,\n",
       "       8.88544239e-03, 8.46043241e-04, 4.55288482e-04, 2.69438172e-04,\n",
       "       1.81180663e-04, 4.66147665e-03, 3.00108538e-05, 1.13883568e-04,\n",
       "       1.20858279e-03, 3.70533244e-04, 1.90191535e-05, 5.07590319e-04,\n",
       "       1.16701367e-04, 1.36459780e-03, 1.32514438e-03, 1.38672818e-04,\n",
       "       1.84805077e-03, 5.14065373e-04, 1.03108199e-05, 8.59539060e-04,\n",
       "       6.02336334e-05, 8.72610011e-04, 3.01604861e-04, 5.67757572e-03,\n",
       "       1.59608756e-02, 1.62460466e-02, 1.36624471e-02, 1.33126896e-02,\n",
       "       6.39270118e-03, 2.99156828e-03, 1.57536253e-02, 1.94886116e-03,\n",
       "       1.85917685e-03, 4.02103276e-04, 5.22065043e-05, 1.95484862e-03,\n",
       "       3.86438806e-04, 3.56131267e-04, 4.64502547e-04, 1.75631981e-03,\n",
       "       2.51523121e-03, 2.99473720e-03, 9.23071789e-04, 1.12114460e-03,\n",
       "       6.14475530e-03, 6.32241089e-04, 3.43784457e-04, 2.56642837e-04,\n",
       "       4.29676271e-04, 7.96006979e-04, 2.75881499e-04, 2.17291308e-04,\n",
       "       1.58105758e-04, 8.35273962e-04, 3.39171193e-04, 2.11526055e-04,\n",
       "       9.74880530e-04, 8.02263667e-04, 1.33129316e-03, 1.19454724e-03,\n",
       "       5.77336071e-03, 7.25056139e-03, 6.05332711e-03, 7.43666420e-03,\n",
       "       6.35517541e-03, 8.05304104e-04, 9.19650500e-03, 4.17369566e-03,\n",
       "       1.30114793e-03, 1.12069576e-03, 6.40320423e-05, 1.50552674e-03,\n",
       "       5.06342256e-04, 8.56904451e-05, 1.12194441e-03, 2.56106793e-03,\n",
       "       5.00111988e-04, 9.04228779e-05, 2.28550969e-03, 5.64981332e-04,\n",
       "       4.65681221e-03, 1.14945968e-05, 1.62453115e-03, 2.76320911e-04,\n",
       "       8.53440978e-04, 8.78911880e-04, 1.48521770e-03, 1.72308710e-03,\n",
       "       7.00948871e-03, 1.28930550e-03, 1.34350721e-02, 1.30218224e-02,\n",
       "       1.50692556e-03, 3.29471776e-02, 2.68478553e-02, 9.36611942e-04,\n",
       "       4.91835990e-04, 1.25390471e-03, 1.14167658e-03, 1.50510945e-03,\n",
       "       4.28675986e-04, 1.68828764e-03, 8.90236692e-04, 2.20000544e-03,\n",
       "       3.90310912e-03, 3.66632742e-04, 6.81402554e-03, 1.09368197e-04,\n",
       "       8.25937428e-04, 1.12672250e-03, 2.21396733e-04, 2.20181451e-04,\n",
       "       1.63453363e-03, 3.24767523e-03, 7.53563492e-03, 3.16779394e-02,\n",
       "       2.79369842e-02, 6.65038207e-02, 6.31387278e-04, 1.53679347e-03,\n",
       "       3.23022684e-03, 6.88732203e-03, 4.45697666e-03, 9.46555969e-03,\n",
       "       2.68865924e-03, 1.78715729e-03, 1.96982068e-03, 1.31452461e-03,\n",
       "       6.04492709e-04, 5.79497367e-04, 1.08531371e-03, 9.03048320e-04,\n",
       "       2.32622666e-04, 4.13368280e-04, 3.70646640e-04, 1.14891583e-04,\n",
       "       4.29213733e-04, 3.03422820e-03, 4.99964027e-03, 1.15760713e-03,\n",
       "       7.65320490e-04, 1.29724933e-03, 3.76009415e-03, 3.82168106e-03,\n",
       "       1.34909279e-03, 4.86267482e-03, 7.41738539e-04, 1.89672413e-03,\n",
       "       5.95875243e-03, 7.42710777e-04, 1.61546911e-03, 4.59496277e-03,\n",
       "       8.47343242e-03, 1.64655747e-02, 7.93955609e-04, 6.43152957e-05,\n",
       "       7.11170090e-04, 1.10204255e-03, 9.22767752e-04, 3.97822678e-04,\n",
       "       1.30724992e-03, 6.75329667e-04, 1.07043578e-05, 8.23529028e-04,\n",
       "       9.37528349e-04, 1.46046713e-03, 3.51222765e-05, 1.78383018e-03,\n",
       "       4.34456655e-05, 4.28428244e-04, 5.12023854e-04, 1.59074154e-04,\n",
       "       1.83681118e-04, 2.12514942e-03, 5.17752531e-03, 3.75503757e-03,\n",
       "       3.17601274e-03, 1.16465605e-02, 8.93453088e-04, 1.02042082e-03,\n",
       "       5.78104304e-04, 3.51143684e-04, 7.06931478e-04, 1.53210634e-03,\n",
       "       1.04373552e-03, 1.59051404e-03, 1.11515025e-03, 2.36992788e-03,\n",
       "       4.76067897e-04, 4.15266024e-04, 3.52424960e-05, 4.95364066e-04,\n",
       "       9.32562880e-03, 5.72698173e-03, 1.35206886e-03, 6.11556870e-03,\n",
       "       5.55109724e-04, 1.00029334e-04, 5.69473448e-04, 2.56043689e-07,\n",
       "       8.76285307e-04, 1.66609761e-03, 1.85099488e-03, 6.30184444e-04,\n",
       "       3.22454577e-03, 1.81316376e-03, 5.89876165e-04, 1.73278645e-04,\n",
       "       1.00772298e-03, 9.71620781e-04, 1.13321850e-03, 7.54157773e-04,\n",
       "       1.22430740e-03, 1.53920069e-03, 2.57542503e-03, 1.51747427e-03,\n",
       "       9.26554120e-04, 1.95582210e-03, 3.56963517e-03, 5.47424714e-03,\n",
       "       6.77741721e-03, 7.41225729e-03, 9.18751959e-03, 7.96839180e-03,\n",
       "       5.94949829e-03, 1.17011971e-03, 4.01802392e-03, 3.94015788e-03,\n",
       "       5.87387967e-05])"
      ]
     },
     "execution_count": 8,
     "metadata": {},
     "output_type": "execute_result"
    }
   ],
   "source": [
    "replay_buffer._data[0][-1]"
   ]
  },
  {
   "cell_type": "code",
   "execution_count": 9,
   "id": "cf3cea13-7876-4081-b94e-32ad4f0b45ef",
   "metadata": {},
   "outputs": [
    {
     "name": "stdout",
     "output_type": "stream",
     "text": [
      "27.4 ms ± 102 µs per loop (mean ± std. dev. of 7 runs, 10 loops each)\n"
     ]
    }
   ],
   "source": [
    "%%timeit\n",
    "replay_buffer.sample()"
   ]
  },
  {
   "cell_type": "code",
   "execution_count": 10,
   "id": "ff7da8be-4995-4b45-8d74-2b14ebdb15d0",
   "metadata": {},
   "outputs": [],
   "source": [
    "from numpy import ndarray\n",
    "from numba import prange, njit"
   ]
  },
  {
   "cell_type": "code",
   "execution_count": 11,
   "id": "39bd4b29-119e-4c1a-ab36-93cd198e0bb8",
   "metadata": {},
   "outputs": [
    {
     "ename": "NameError",
     "evalue": "name 'episode' is not defined",
     "output_type": "error",
     "traceback": [
      "\u001b[0;31m---------------------------------------------------------------------------\u001b[0m",
      "\u001b[0;31mNameError\u001b[0m                                 Traceback (most recent call last)",
      "Cell \u001b[0;32mIn [11], line 1\u001b[0m\n\u001b[0;32m----> 1\u001b[0m all_values \u001b[38;5;241m=\u001b[39m np\u001b[38;5;241m.\u001b[39marray([state\u001b[38;5;241m.\u001b[39msearch_stats\u001b[38;5;241m.\u001b[39msearch_value \u001b[38;5;28;01mfor\u001b[39;00m state \u001b[38;5;129;01min\u001b[39;00m \u001b[43mepisode\u001b[49m])\n",
      "\u001b[0;31mNameError\u001b[0m: name 'episode' is not defined"
     ]
    }
   ],
   "source": [
    "all_values = np.array([state.search_stats.search_value for state in episode])"
   ]
  },
  {
   "cell_type": "code",
   "execution_count": null,
   "id": "bda10e62-fc92-4c0b-bda3-432fb635e69b",
   "metadata": {},
   "outputs": [],
   "source": [
    "def _discount_values(all_values: ndarray, td_steps: int, td_lambda: float) -> ndarray:\n",
    "    \"\"\"\n",
    "    Compute the discount values.\n",
    "\n",
    "    Parameters\n",
    "    ----------\n",
    "    all_values: ndarray\n",
    "        Value of each episode in trajectory\n",
    "    td_steps:\n",
    "        The number n of the n-step returns\n",
    "    td_lambda:\n",
    "        The lambda in TD(lambda)\n",
    "\n",
    "    Returns\n",
    "    -------\n",
    "    ndarray\n",
    "        Discount values\n",
    "    \"\"\"\n",
    "    _len = all_values.shape[0]\n",
    "    discount_values = np.zeros(_len)\n",
    "\n",
    "    for i in prange(_len):\n",
    "        discount_values[i] = all_values[i] * td_lambda ** td_steps\n",
    "\n",
    "    return discount_values"
   ]
  },
  {
   "cell_type": "code",
   "execution_count": null,
   "id": "c602de6f-4851-4e94-9b64-6a62bd3ef529",
   "metadata": {},
   "outputs": [],
   "source": [
    "@njit(parallel=True)\n",
    "def _discount_values_parallel(all_values: ndarray, td_steps: int, td_lambda: float) -> ndarray:\n",
    "    \"\"\"\n",
    "    Compute the discount values.\n",
    "\n",
    "    Parameters\n",
    "    ----------\n",
    "    all_values: ndarray\n",
    "        Value of each episode in trajectory\n",
    "    td_steps:\n",
    "        The number n of the n-step returns\n",
    "    td_lambda:\n",
    "        The lambda in TD(lambda)\n",
    "\n",
    "    Returns\n",
    "    -------\n",
    "    ndarray\n",
    "        Discount values\n",
    "    \"\"\"\n",
    "    _len = all_values.shape[0]\n",
    "    discount_values = np.zeros(_len)\n",
    "\n",
    "    for i in prange(_len):\n",
    "        discount_values[i] = all_values[i] * td_lambda ** td_steps\n",
    "\n",
    "    return discount_values"
   ]
  },
  {
   "cell_type": "code",
   "execution_count": null,
   "id": "71583173-25f4-4f2b-b63d-989296a12a69",
   "metadata": {},
   "outputs": [],
   "source": [
    "@njit\n",
    "def _discount_values_all(all_values: ndarray, td_steps: int, td_lambda: float) -> ndarray:\n",
    "    \"\"\"\n",
    "    Compute the discount values.\n",
    "\n",
    "    Parameters\n",
    "    ----------\n",
    "    all_values: ndarray\n",
    "        Value of each episode in trajectory\n",
    "    td_steps:\n",
    "        The number n of the n-step returns\n",
    "    td_lambda:\n",
    "        The lambda in TD(lambda)\n",
    "\n",
    "    Returns\n",
    "    -------\n",
    "    ndarray\n",
    "        Discount values\n",
    "    \"\"\"\n",
    "    _len = all_values.shape[0]\n",
    "    discount_values = np.zeros(_len)\n",
    "\n",
    "    for i in prange(_len):\n",
    "        discount_values[i] = all_values[i] * td_lambda ** td_steps\n",
    "\n",
    "    return discount_values"
   ]
  },
  {
   "cell_type": "code",
   "execution_count": null,
   "id": "ee7b469d-9b18-4201-9d8f-5206ac84e765",
   "metadata": {},
   "outputs": [],
   "source": [
    "%%timeit\n",
    "_discount_values(all_values, 10, 0.5)"
   ]
  },
  {
   "cell_type": "code",
   "execution_count": null,
   "id": "fb2e2e28-973a-4890-bd57-dc0b4d8a587e",
   "metadata": {},
   "outputs": [],
   "source": [
    "%%timeit\n",
    "_discount_values_parallel(all_values, 10, 0.5)"
   ]
  },
  {
   "cell_type": "code",
   "execution_count": null,
   "id": "0453109e-948c-4209-8d1a-68ab1052d322",
   "metadata": {},
   "outputs": [],
   "source": [
    "%%timeit\n",
    "_discount_values_all(all_values, 10, 0.5)"
   ]
  },
  {
   "cell_type": "code",
   "execution_count": null,
   "id": "920c2ac3-9774-4dcf-9af8-123eb00b11d6",
   "metadata": {},
   "outputs": [],
   "source": [
    "@njit(cache=True)\n",
    "def _sum_reward(rewards: ndarray, td_lambda: float) -> float:\n",
    "    \"\"\"\n",
    "    Sum reward for N-step return.\n",
    "\n",
    "    Parameters\n",
    "    ----------\n",
    "    rewards: ndarray\n",
    "        List of rewards\n",
    "    td_lambda: float\n",
    "        Discount for n-step return\n",
    "\n",
    "    Returns\n",
    "    -------\n",
    "    float\n",
    "        n-step return\n",
    "    \"\"\"\n",
    "    value = 0.0\n",
    "\n",
    "    _len = rewards.shape[0]\n",
    "    for i in prange(_len):\n",
    "        value += rewards[i] * td_lambda ** i\n",
    "\n",
    "    return value\n",
    "\n",
    "@njit(cache=True)\n",
    "def _discount_rewards(all_rewards: ndarray, td_steps: int, td_lambda: float) -> ndarray:\n",
    "    \"\"\"\n",
    "    Compute the discount rewards.\n",
    "\n",
    "    Parameters\n",
    "    ----------\n",
    "    all_rewards: ndarray\n",
    "        Reward of each episode in trajectory\n",
    "    td_steps:\n",
    "        The number n of the n-step returns\n",
    "    td_lambda:\n",
    "        The lambda in TD(lambda)\n",
    "\n",
    "    Returns\n",
    "    -------\n",
    "    ndarray\n",
    "        All return of trajectories\n",
    "    \"\"\"\n",
    "    _len = all_rewards.shape[0]\n",
    "    discount_rewards = np.zeros(_len)\n",
    "\n",
    "    for i in prange(_len):\n",
    "        discount_rewards[i] = _sum_reward(all_rewards[i:i+td_steps], td_lambda)\n",
    "\n",
    "    return discount_rewards"
   ]
  },
  {
   "cell_type": "code",
   "execution_count": null,
   "id": "02b13906-c4ae-4381-81ea-0ec05cdfb38f",
   "metadata": {},
   "outputs": [],
   "source": [
    "all_rewards = np.array([state.reward for state in episode])"
   ]
  },
  {
   "cell_type": "code",
   "execution_count": null,
   "id": "196dea6f-f4a9-4dc4-a42b-a6848bd83d1d",
   "metadata": {},
   "outputs": [],
   "source": [
    "%%timeit\n",
    "_discount_rewards(all_rewards, 10, 0.5)"
   ]
  },
  {
   "cell_type": "code",
   "execution_count": null,
   "id": "01f9e531-e058-48a4-9cd0-6bd895938957",
   "metadata": {},
   "outputs": [],
   "source": []
  },
  {
   "cell_type": "code",
   "execution_count": null,
   "id": "11ec8fd8-57a2-4e78-8ed4-b044edcabb9f",
   "metadata": {},
   "outputs": [],
   "source": [
    "all_visits = np.array([[state.search_stats.search_policy[a] if a in state.search_stats.search_policy else 0 for a in range(4)] for state in episode])"
   ]
  },
  {
   "cell_type": "code",
   "execution_count": null,
   "id": "4d1907af-1222-4ce6-ba4c-a4082ce5d984",
   "metadata": {},
   "outputs": [],
   "source": [
    "@njit(cache=True)\n",
    "def _policies(all_visits: ndarray):\n",
    "    _len = all_visits.shape[0]\n",
    "    policies = np.zeros(all_visits.shape)\n",
    "\n",
    "    for i in prange(_len):\n",
    "        total = np.sum(all_visits[i])\n",
    "        policies[i] = all_visits[i] / total\n",
    "\n",
    "    return policies"
   ]
  },
  {
   "cell_type": "code",
   "execution_count": null,
   "id": "144cdda3-a866-43b2-bc32-62b0b9b06d9a",
   "metadata": {},
   "outputs": [],
   "source": [
    "%%timeit\n",
    "_policies(all_visits)"
   ]
  },
  {
   "cell_type": "code",
   "execution_count": null,
   "id": "3c8c347d-ff3b-4f90-8613-57af73a1ed5b",
   "metadata": {},
   "outputs": [],
   "source": []
  }
 ],
 "metadata": {
  "kernelspec": {
   "display_name": "Python 3 (ipykernel)",
   "language": "python",
   "name": "python3"
  },
  "language_info": {
   "codemirror_mode": {
    "name": "ipython",
    "version": 3
   },
   "file_extension": ".py",
   "mimetype": "text/x-python",
   "name": "python",
   "nbconvert_exporter": "python",
   "pygments_lexer": "ipython3",
   "version": "3.9.13"
  }
 },
 "nbformat": 4,
 "nbformat_minor": 5
}
